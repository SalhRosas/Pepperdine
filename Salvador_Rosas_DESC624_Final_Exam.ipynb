{
  "nbformat": 4,
  "nbformat_minor": 0,
  "metadata": {
    "colab": {
      "provenance": [],
      "include_colab_link": true
    },
    "kernelspec": {
      "name": "python3",
      "display_name": "Python 3"
    }
  },
  "cells": [
    {
      "cell_type": "markdown",
      "metadata": {
        "id": "view-in-github",
        "colab_type": "text"
      },
      "source": [
        "<a href=\"https://colab.research.google.com/github/SalhRosas/Pepperdine/blob/main/Salvador_Rosas_DESC624_Final_Exam.ipynb\" target=\"_parent\"><img src=\"https://colab.research.google.com/assets/colab-badge.svg\" alt=\"Open In Colab\"/></a>"
      ]
    },
    {
      "cell_type": "markdown",
      "metadata": {
        "id": "BbD3CO0-Cbd3"
      },
      "source": [
        "With what information does Bayes Theorem update our previous knowledge about the data parameters?"
      ]
    },
    {
      "cell_type": "markdown",
      "source": [
        "- Bayes Theorem describes the probability of an event based on prior knowledge of conditions that might be related to the event. This allows us to calculate the posterior probability, which is the updated probability of a parameter given the obsereved data to make more informed decisions based on the observed data.  "
      ],
      "metadata": {
        "id": "5BjpXrTsyeL_"
      }
    },
    {
      "cell_type": "markdown",
      "metadata": {
        "id": "w5RvhnyGCgDL"
      },
      "source": [
        "What does the prior probability represent?"
      ]
    },
    {
      "cell_type": "markdown",
      "source": [
        "- Prior probability is the initial estimation about the probability of an event occuring before new data is collected."
      ],
      "metadata": {
        "id": "IV_j_V3YybUr"
      }
    },
    {
      "cell_type": "markdown",
      "metadata": {
        "id": "9qwk8q9oDBTV"
      },
      "source": [
        "For the following exercises, work with the wine_flag_training and wine_flag_test data sets. Use either Python to solve each problem.\n",
        "Here are the links to the datasets:\n",
        "\n",
        "https://raw.githubusercontent.com/ArashVafa/DESC624/master/wine_flag_training.csv\n",
        "\n",
        "https://raw.githubusercontent.com/ArashVafa/DESC624/master/wine_flag_test.csv\n",
        "\n",
        "\n",
        "Create two contingency tables, one with Type and Alcohol_flag and another with Type and Sugar_flag.\n",
        "Use the tables in the previous exercise to calculate:\n",
        "* The prior probability of Type = Red and Type = White.\n",
        "* The probability of high and low alcohol content.\n",
        "* The probability of high and low sugar content.\n",
        "* The conditional probabilities p(Alcohol_flag = High ∣ Type = Red) and p(Alcohol_flag = Low ∣ Type = Red).\n",
        "* The conditional probabilities p(Alcohol_flag = High ∣ Type = White) and p(Alcohol_flag = Low ∣ Type = White).\n",
        "* The conditional probabilities p(Sugar_flag = High ∣ Type = Red) and p(Sugar_flag = Low ∣ Type = Red).\n",
        "* The conditional probabilities p(Sugar_flag = High ∣ Type = White) and p(Sugar_flag = Low ∣ Type = White).\n",
        "\n",
        "Use the probabilities in the previous exercise to discuss\n",
        "* How likely it is that a randomly selected wine is red.\n",
        "* How likely it is that a randomly selected wine has a high alcohol content.\n",
        "* How likely it is that a randomly selected wine has a low sugar content.\n",
        "\n",
        "\n",
        "Use the conditional probabilities found earlier to discuss\n",
        "* What a typical white wine might have as its alcohol and sugar content.\n",
        "* What a typical red wine might have as its alcohol and sugar content.\n",
        "\n",
        "Create side‐by‐side bar graphs for Type, one with an overlay of Alcohol_flag and the other with an overlay of Sugar_flag. Compare the graphs to the conditional probabilities you calculated.\n",
        "\n",
        "Compute the posterior probability of Type = Red for a wine that is low in alcohol content and high in sugar content. Compute the posterior probability of Type = White for the same wine.\n",
        "\n",
        "Use your answers to the previous exercise to determine which type, red or white, is more probable for a wine with low alcohol and high sugar content. What would the Naïve Bayes classifier classify this wine as?\n",
        "\n",
        "Compute the posterior probability of Type = Red for a wine that is high in alcohol content and low in sugar content. Compute the posterior probability of Type = White for the same wine.\n",
        "\n",
        "Use your answers to the previous exercise to determine which type, red or white, is more probable for a wine with high alcohol and low sugar content. What would the Naïve Bayes classifier classify this wine as?\n",
        "\n",
        "Run the Naïve Bayes classifier to classify wines as white or red based on alcohol and sugar content.\n",
        "\n",
        "Evaluate the Naïve Bayes model on the wines_test data set. Display the results in a contingency table. Edit the row and column names of the table to make the table more readable. Include a total row and column.\n",
        "\n",
        "According to your table in the previous exercise, find the following values for the Naïve Bayes model:\n",
        "* Accuracy\n",
        "* Error rate\n",
        "\n",
        "According to your contingency table, find the following values for the Naïve Bayes model:\n",
        "* How often it correctly classifies red wines.\n",
        "* How often it correctly classifies white wines."
      ]
    },
    {
      "cell_type": "code",
      "source": [
        "\"\"\"Create two contingency tables, one with Type and Alcohol_flag and another with Type and Sugar_flag. Use the tables in the previous exercise to calculate:\n",
        "\"\"\"\n",
        "\n",
        "import pandas as pd\n",
        "import matplotlib.pyplot as plt\n",
        "\n",
        "#import the necessary packages\n",
        "from sklearn.model_selection import train_test_split\n",
        "from sklearn.naive_bayes import GaussianNB\n",
        "from sklearn.naive_bayes import MultinomialNB\n",
        "\n",
        "from inspect import signature\n",
        "\n",
        "import sklearn \n",
        "from sklearn import linear_model, dummy, metrics\n",
        "from sklearn.dummy import DummyClassifier\n",
        "from sklearn.metrics import *\n",
        "\n",
        "import seaborn as sns\n",
        "\n",
        "### We will be using wine data to demonstrate how we use Naive Bayes to classify a response variable.\n",
        "### Let us say we want to predict whether a wine is red or white based on whether the wine has high or low alcohol and sugar content.\n",
        "\n",
        " ##To Load from GitHub\n",
        "url_wine_tr = 'https://raw.githubusercontent.com/kamranbakhtiari/DESC624/main/wine_flag_training.csv'\n",
        "wine_tr = pd.read_csv(url_wine_tr)\n",
        "\n",
        "url_wine_test = 'https://raw.githubusercontent.com/kamranbakhtiari/DESC624/main/wine_flag_test.csv'\n",
        "wine_test = pd.read_csv(url_wine_test)\n",
        "\n",
        "\n",
        "### TO TEST WE WILL PREVIEW OUR DATA\n",
        "\n",
        "wine_test\n",
        "wine_tr"
      ],
      "metadata": {
        "colab": {
          "base_uri": "https://localhost:8080/",
          "height": 424
        },
        "id": "IJar65cclb1A",
        "outputId": "e8941897-a8d7-4bbe-8b3a-46bcc5ec1d94"
      },
      "execution_count": 2,
      "outputs": [
        {
          "output_type": "execute_result",
          "data": {
            "text/plain": [
              "      Type Alcohol_flag Sugar_flag\n",
              "0      Red         High       High\n",
              "1      Red         High        Low\n",
              "2      Red          Low       High\n",
              "3      Red         High        Low\n",
              "4      Red          Low        Low\n",
              "..     ...          ...        ...\n",
              "995  White         High        Low\n",
              "996  White          Low        Low\n",
              "997  White          Low       High\n",
              "998  White          Low        Low\n",
              "999  White         High       High\n",
              "\n",
              "[1000 rows x 3 columns]"
            ],
            "text/html": [
              "\n",
              "  <div id=\"df-93b1d2b3-e99e-4e22-b9cc-02329321c6ed\">\n",
              "    <div class=\"colab-df-container\">\n",
              "      <div>\n",
              "<style scoped>\n",
              "    .dataframe tbody tr th:only-of-type {\n",
              "        vertical-align: middle;\n",
              "    }\n",
              "\n",
              "    .dataframe tbody tr th {\n",
              "        vertical-align: top;\n",
              "    }\n",
              "\n",
              "    .dataframe thead th {\n",
              "        text-align: right;\n",
              "    }\n",
              "</style>\n",
              "<table border=\"1\" class=\"dataframe\">\n",
              "  <thead>\n",
              "    <tr style=\"text-align: right;\">\n",
              "      <th></th>\n",
              "      <th>Type</th>\n",
              "      <th>Alcohol_flag</th>\n",
              "      <th>Sugar_flag</th>\n",
              "    </tr>\n",
              "  </thead>\n",
              "  <tbody>\n",
              "    <tr>\n",
              "      <th>0</th>\n",
              "      <td>Red</td>\n",
              "      <td>High</td>\n",
              "      <td>High</td>\n",
              "    </tr>\n",
              "    <tr>\n",
              "      <th>1</th>\n",
              "      <td>Red</td>\n",
              "      <td>High</td>\n",
              "      <td>Low</td>\n",
              "    </tr>\n",
              "    <tr>\n",
              "      <th>2</th>\n",
              "      <td>Red</td>\n",
              "      <td>Low</td>\n",
              "      <td>High</td>\n",
              "    </tr>\n",
              "    <tr>\n",
              "      <th>3</th>\n",
              "      <td>Red</td>\n",
              "      <td>High</td>\n",
              "      <td>Low</td>\n",
              "    </tr>\n",
              "    <tr>\n",
              "      <th>4</th>\n",
              "      <td>Red</td>\n",
              "      <td>Low</td>\n",
              "      <td>Low</td>\n",
              "    </tr>\n",
              "    <tr>\n",
              "      <th>...</th>\n",
              "      <td>...</td>\n",
              "      <td>...</td>\n",
              "      <td>...</td>\n",
              "    </tr>\n",
              "    <tr>\n",
              "      <th>995</th>\n",
              "      <td>White</td>\n",
              "      <td>High</td>\n",
              "      <td>Low</td>\n",
              "    </tr>\n",
              "    <tr>\n",
              "      <th>996</th>\n",
              "      <td>White</td>\n",
              "      <td>Low</td>\n",
              "      <td>Low</td>\n",
              "    </tr>\n",
              "    <tr>\n",
              "      <th>997</th>\n",
              "      <td>White</td>\n",
              "      <td>Low</td>\n",
              "      <td>High</td>\n",
              "    </tr>\n",
              "    <tr>\n",
              "      <th>998</th>\n",
              "      <td>White</td>\n",
              "      <td>Low</td>\n",
              "      <td>Low</td>\n",
              "    </tr>\n",
              "    <tr>\n",
              "      <th>999</th>\n",
              "      <td>White</td>\n",
              "      <td>High</td>\n",
              "      <td>High</td>\n",
              "    </tr>\n",
              "  </tbody>\n",
              "</table>\n",
              "<p>1000 rows × 3 columns</p>\n",
              "</div>\n",
              "      <button class=\"colab-df-convert\" onclick=\"convertToInteractive('df-93b1d2b3-e99e-4e22-b9cc-02329321c6ed')\"\n",
              "              title=\"Convert this dataframe to an interactive table.\"\n",
              "              style=\"display:none;\">\n",
              "        \n",
              "  <svg xmlns=\"http://www.w3.org/2000/svg\" height=\"24px\"viewBox=\"0 0 24 24\"\n",
              "       width=\"24px\">\n",
              "    <path d=\"M0 0h24v24H0V0z\" fill=\"none\"/>\n",
              "    <path d=\"M18.56 5.44l.94 2.06.94-2.06 2.06-.94-2.06-.94-.94-2.06-.94 2.06-2.06.94zm-11 1L8.5 8.5l.94-2.06 2.06-.94-2.06-.94L8.5 2.5l-.94 2.06-2.06.94zm10 10l.94 2.06.94-2.06 2.06-.94-2.06-.94-.94-2.06-.94 2.06-2.06.94z\"/><path d=\"M17.41 7.96l-1.37-1.37c-.4-.4-.92-.59-1.43-.59-.52 0-1.04.2-1.43.59L10.3 9.45l-7.72 7.72c-.78.78-.78 2.05 0 2.83L4 21.41c.39.39.9.59 1.41.59.51 0 1.02-.2 1.41-.59l7.78-7.78 2.81-2.81c.8-.78.8-2.07 0-2.86zM5.41 20L4 18.59l7.72-7.72 1.47 1.35L5.41 20z\"/>\n",
              "  </svg>\n",
              "      </button>\n",
              "      \n",
              "  <style>\n",
              "    .colab-df-container {\n",
              "      display:flex;\n",
              "      flex-wrap:wrap;\n",
              "      gap: 12px;\n",
              "    }\n",
              "\n",
              "    .colab-df-convert {\n",
              "      background-color: #E8F0FE;\n",
              "      border: none;\n",
              "      border-radius: 50%;\n",
              "      cursor: pointer;\n",
              "      display: none;\n",
              "      fill: #1967D2;\n",
              "      height: 32px;\n",
              "      padding: 0 0 0 0;\n",
              "      width: 32px;\n",
              "    }\n",
              "\n",
              "    .colab-df-convert:hover {\n",
              "      background-color: #E2EBFA;\n",
              "      box-shadow: 0px 1px 2px rgba(60, 64, 67, 0.3), 0px 1px 3px 1px rgba(60, 64, 67, 0.15);\n",
              "      fill: #174EA6;\n",
              "    }\n",
              "\n",
              "    [theme=dark] .colab-df-convert {\n",
              "      background-color: #3B4455;\n",
              "      fill: #D2E3FC;\n",
              "    }\n",
              "\n",
              "    [theme=dark] .colab-df-convert:hover {\n",
              "      background-color: #434B5C;\n",
              "      box-shadow: 0px 1px 3px 1px rgba(0, 0, 0, 0.15);\n",
              "      filter: drop-shadow(0px 1px 2px rgba(0, 0, 0, 0.3));\n",
              "      fill: #FFFFFF;\n",
              "    }\n",
              "  </style>\n",
              "\n",
              "      <script>\n",
              "        const buttonEl =\n",
              "          document.querySelector('#df-93b1d2b3-e99e-4e22-b9cc-02329321c6ed button.colab-df-convert');\n",
              "        buttonEl.style.display =\n",
              "          google.colab.kernel.accessAllowed ? 'block' : 'none';\n",
              "\n",
              "        async function convertToInteractive(key) {\n",
              "          const element = document.querySelector('#df-93b1d2b3-e99e-4e22-b9cc-02329321c6ed');\n",
              "          const dataTable =\n",
              "            await google.colab.kernel.invokeFunction('convertToInteractive',\n",
              "                                                     [key], {});\n",
              "          if (!dataTable) return;\n",
              "\n",
              "          const docLinkHtml = 'Like what you see? Visit the ' +\n",
              "            '<a target=\"_blank\" href=https://colab.research.google.com/notebooks/data_table.ipynb>data table notebook</a>'\n",
              "            + ' to learn more about interactive tables.';\n",
              "          element.innerHTML = '';\n",
              "          dataTable['output_type'] = 'display_data';\n",
              "          await google.colab.output.renderOutput(dataTable, element);\n",
              "          const docLink = document.createElement('div');\n",
              "          docLink.innerHTML = docLinkHtml;\n",
              "          element.appendChild(docLink);\n",
              "        }\n",
              "      </script>\n",
              "    </div>\n",
              "  </div>\n",
              "  "
            ]
          },
          "metadata": {},
          "execution_count": 2
        }
      ]
    },
    {
      "cell_type": "code",
      "source": [
        "#for training\n",
        "from sklearn.preprocessing import LabelEncoder \n",
        "from sklearn import preprocessing as prep\n",
        "\n",
        "wine_tr2= wine_tr\n",
        "wine_tr2.columns = wine_tr2.columns.str.replace(' ', '')\n",
        "le = prep.LabelEncoder()\n",
        "\n",
        "wine_tr2['Alcohol_flag'] = le.fit_transform(wine_tr2['Alcohol_flag'])\n",
        "wine_tr2['Sugar_flag'] = le.fit_transform(wine_tr2['Sugar_flag'])\n",
        "wine_tr2['Type'] = le.fit_transform(wine_tr2['Type'])\n",
        "wine_tr2.info()"
      ],
      "metadata": {
        "colab": {
          "base_uri": "https://localhost:8080/"
        },
        "id": "H-BcfhrYIhPV",
        "outputId": "8e38b261-32cf-4a69-ce01-50e0f7e29e0b"
      },
      "execution_count": 3,
      "outputs": [
        {
          "output_type": "stream",
          "name": "stdout",
          "text": [
            "<class 'pandas.core.frame.DataFrame'>\n",
            "RangeIndex: 1000 entries, 0 to 999\n",
            "Data columns (total 3 columns):\n",
            " #   Column        Non-Null Count  Dtype\n",
            "---  ------        --------------  -----\n",
            " 0   Type          1000 non-null   int64\n",
            " 1   Alcohol_flag  1000 non-null   int64\n",
            " 2   Sugar_flag    1000 non-null   int64\n",
            "dtypes: int64(3)\n",
            "memory usage: 23.6 KB\n"
          ]
        }
      ]
    },
    {
      "cell_type": "code",
      "source": [
        "##for test\n",
        "wine_test.columns = wine_test.columns.str.replace(' ', '')\n",
        "le = prep.LabelEncoder()\n",
        "\n",
        "wine_test['Alcohol_flag'] = le.fit_transform(wine_test['Alcohol_flag'])\n",
        "wine_test['Sugar_flag'] = le.fit_transform(wine_test['Sugar_flag'])\n",
        "wine_test['Type'] = le.fit_transform(wine_test['Type'])\n",
        "wine_test.info()"
      ],
      "metadata": {
        "colab": {
          "base_uri": "https://localhost:8080/"
        },
        "id": "RIs3QmgwqxQX",
        "outputId": "03f859f8-1965-46aa-b770-ef72e6ea8e56"
      },
      "execution_count": 4,
      "outputs": [
        {
          "output_type": "stream",
          "name": "stdout",
          "text": [
            "<class 'pandas.core.frame.DataFrame'>\n",
            "RangeIndex: 2345 entries, 0 to 2344\n",
            "Data columns (total 3 columns):\n",
            " #   Column        Non-Null Count  Dtype\n",
            "---  ------        --------------  -----\n",
            " 0   Type          2345 non-null   int64\n",
            " 1   Alcohol_flag  2345 non-null   int64\n",
            " 2   Sugar_flag    2345 non-null   int64\n",
            "dtypes: int64(3)\n",
            "memory usage: 55.1 KB\n"
          ]
        }
      ]
    },
    {
      "cell_type": "code",
      "source": [
        "X = wine_tr2[['Alcohol_flag', 'Sugar_flag']] #predictors\n",
        "\n",
        "y= wine_tr2[['Type']] #target"
      ],
      "metadata": {
        "id": "miIJkwFYAwUY"
      },
      "execution_count": 5,
      "outputs": []
    },
    {
      "cell_type": "code",
      "source": [
        "# 0 = high alc, 1 = low alc \n",
        "# 0 =Red \n",
        "t1= pd.crosstab(wine_tr2['Type'], wine_tr2['Alcohol_flag'])\n",
        "\n",
        "t1[\"Total\"]=t1.sum(axis=1)\n",
        "t1.loc['Total'] = t1.sum()\n",
        "\n",
        "t1"
      ],
      "metadata": {
        "colab": {
          "base_uri": "https://localhost:8080/",
          "height": 175
        },
        "id": "MENTGXO5kuB_",
        "outputId": "31c9f3fe-c10c-4045-e10f-1c0a019291fd"
      },
      "execution_count": 6,
      "outputs": [
        {
          "output_type": "execute_result",
          "data": {
            "text/plain": [
              "Alcohol_flag    0    1  Total\n",
              "Type                         \n",
              "0             218  282    500\n",
              "1             268  232    500\n",
              "Total         486  514   1000"
            ],
            "text/html": [
              "\n",
              "  <div id=\"df-74349b0f-ce88-4891-8da1-a1c19a9dc6a1\">\n",
              "    <div class=\"colab-df-container\">\n",
              "      <div>\n",
              "<style scoped>\n",
              "    .dataframe tbody tr th:only-of-type {\n",
              "        vertical-align: middle;\n",
              "    }\n",
              "\n",
              "    .dataframe tbody tr th {\n",
              "        vertical-align: top;\n",
              "    }\n",
              "\n",
              "    .dataframe thead th {\n",
              "        text-align: right;\n",
              "    }\n",
              "</style>\n",
              "<table border=\"1\" class=\"dataframe\">\n",
              "  <thead>\n",
              "    <tr style=\"text-align: right;\">\n",
              "      <th>Alcohol_flag</th>\n",
              "      <th>0</th>\n",
              "      <th>1</th>\n",
              "      <th>Total</th>\n",
              "    </tr>\n",
              "    <tr>\n",
              "      <th>Type</th>\n",
              "      <th></th>\n",
              "      <th></th>\n",
              "      <th></th>\n",
              "    </tr>\n",
              "  </thead>\n",
              "  <tbody>\n",
              "    <tr>\n",
              "      <th>0</th>\n",
              "      <td>218</td>\n",
              "      <td>282</td>\n",
              "      <td>500</td>\n",
              "    </tr>\n",
              "    <tr>\n",
              "      <th>1</th>\n",
              "      <td>268</td>\n",
              "      <td>232</td>\n",
              "      <td>500</td>\n",
              "    </tr>\n",
              "    <tr>\n",
              "      <th>Total</th>\n",
              "      <td>486</td>\n",
              "      <td>514</td>\n",
              "      <td>1000</td>\n",
              "    </tr>\n",
              "  </tbody>\n",
              "</table>\n",
              "</div>\n",
              "      <button class=\"colab-df-convert\" onclick=\"convertToInteractive('df-74349b0f-ce88-4891-8da1-a1c19a9dc6a1')\"\n",
              "              title=\"Convert this dataframe to an interactive table.\"\n",
              "              style=\"display:none;\">\n",
              "        \n",
              "  <svg xmlns=\"http://www.w3.org/2000/svg\" height=\"24px\"viewBox=\"0 0 24 24\"\n",
              "       width=\"24px\">\n",
              "    <path d=\"M0 0h24v24H0V0z\" fill=\"none\"/>\n",
              "    <path d=\"M18.56 5.44l.94 2.06.94-2.06 2.06-.94-2.06-.94-.94-2.06-.94 2.06-2.06.94zm-11 1L8.5 8.5l.94-2.06 2.06-.94-2.06-.94L8.5 2.5l-.94 2.06-2.06.94zm10 10l.94 2.06.94-2.06 2.06-.94-2.06-.94-.94-2.06-.94 2.06-2.06.94z\"/><path d=\"M17.41 7.96l-1.37-1.37c-.4-.4-.92-.59-1.43-.59-.52 0-1.04.2-1.43.59L10.3 9.45l-7.72 7.72c-.78.78-.78 2.05 0 2.83L4 21.41c.39.39.9.59 1.41.59.51 0 1.02-.2 1.41-.59l7.78-7.78 2.81-2.81c.8-.78.8-2.07 0-2.86zM5.41 20L4 18.59l7.72-7.72 1.47 1.35L5.41 20z\"/>\n",
              "  </svg>\n",
              "      </button>\n",
              "      \n",
              "  <style>\n",
              "    .colab-df-container {\n",
              "      display:flex;\n",
              "      flex-wrap:wrap;\n",
              "      gap: 12px;\n",
              "    }\n",
              "\n",
              "    .colab-df-convert {\n",
              "      background-color: #E8F0FE;\n",
              "      border: none;\n",
              "      border-radius: 50%;\n",
              "      cursor: pointer;\n",
              "      display: none;\n",
              "      fill: #1967D2;\n",
              "      height: 32px;\n",
              "      padding: 0 0 0 0;\n",
              "      width: 32px;\n",
              "    }\n",
              "\n",
              "    .colab-df-convert:hover {\n",
              "      background-color: #E2EBFA;\n",
              "      box-shadow: 0px 1px 2px rgba(60, 64, 67, 0.3), 0px 1px 3px 1px rgba(60, 64, 67, 0.15);\n",
              "      fill: #174EA6;\n",
              "    }\n",
              "\n",
              "    [theme=dark] .colab-df-convert {\n",
              "      background-color: #3B4455;\n",
              "      fill: #D2E3FC;\n",
              "    }\n",
              "\n",
              "    [theme=dark] .colab-df-convert:hover {\n",
              "      background-color: #434B5C;\n",
              "      box-shadow: 0px 1px 3px 1px rgba(0, 0, 0, 0.15);\n",
              "      filter: drop-shadow(0px 1px 2px rgba(0, 0, 0, 0.3));\n",
              "      fill: #FFFFFF;\n",
              "    }\n",
              "  </style>\n",
              "\n",
              "      <script>\n",
              "        const buttonEl =\n",
              "          document.querySelector('#df-74349b0f-ce88-4891-8da1-a1c19a9dc6a1 button.colab-df-convert');\n",
              "        buttonEl.style.display =\n",
              "          google.colab.kernel.accessAllowed ? 'block' : 'none';\n",
              "\n",
              "        async function convertToInteractive(key) {\n",
              "          const element = document.querySelector('#df-74349b0f-ce88-4891-8da1-a1c19a9dc6a1');\n",
              "          const dataTable =\n",
              "            await google.colab.kernel.invokeFunction('convertToInteractive',\n",
              "                                                     [key], {});\n",
              "          if (!dataTable) return;\n",
              "\n",
              "          const docLinkHtml = 'Like what you see? Visit the ' +\n",
              "            '<a target=\"_blank\" href=https://colab.research.google.com/notebooks/data_table.ipynb>data table notebook</a>'\n",
              "            + ' to learn more about interactive tables.';\n",
              "          element.innerHTML = '';\n",
              "          dataTable['output_type'] = 'display_data';\n",
              "          await google.colab.output.renderOutput(dataTable, element);\n",
              "          const docLink = document.createElement('div');\n",
              "          docLink.innerHTML = docLinkHtml;\n",
              "          element.appendChild(docLink);\n",
              "        }\n",
              "      </script>\n",
              "    </div>\n",
              "  </div>\n",
              "  "
            ]
          },
          "metadata": {},
          "execution_count": 6
        }
      ]
    },
    {
      "cell_type": "code",
      "source": [
        "# 0 = high sugar , 1 = low Sugar contant\n",
        "# 0= red wine\n",
        "t2=pd.crosstab(wine_tr2['Type'], wine_tr2['Sugar_flag'])\n",
        "\n",
        "t2[\"Total\"]=t2.sum(axis=1)\n",
        "t2.loc['Total'] = t2.sum()\n",
        "\n",
        "t2"
      ],
      "metadata": {
        "colab": {
          "base_uri": "https://localhost:8080/",
          "height": 175
        },
        "id": "NOWh4h1iyPDV",
        "outputId": "8e836f4d-1083-4e13-cf93-f7af89fd5490"
      },
      "execution_count": 7,
      "outputs": [
        {
          "output_type": "execute_result",
          "data": {
            "text/plain": [
              "Sugar_flag    0    1  Total\n",
              "Type                       \n",
              "0           116  384    500\n",
              "1           300  200    500\n",
              "Total       416  584   1000"
            ],
            "text/html": [
              "\n",
              "  <div id=\"df-d2da748a-0a11-4e21-a48d-30b553cb5a72\">\n",
              "    <div class=\"colab-df-container\">\n",
              "      <div>\n",
              "<style scoped>\n",
              "    .dataframe tbody tr th:only-of-type {\n",
              "        vertical-align: middle;\n",
              "    }\n",
              "\n",
              "    .dataframe tbody tr th {\n",
              "        vertical-align: top;\n",
              "    }\n",
              "\n",
              "    .dataframe thead th {\n",
              "        text-align: right;\n",
              "    }\n",
              "</style>\n",
              "<table border=\"1\" class=\"dataframe\">\n",
              "  <thead>\n",
              "    <tr style=\"text-align: right;\">\n",
              "      <th>Sugar_flag</th>\n",
              "      <th>0</th>\n",
              "      <th>1</th>\n",
              "      <th>Total</th>\n",
              "    </tr>\n",
              "    <tr>\n",
              "      <th>Type</th>\n",
              "      <th></th>\n",
              "      <th></th>\n",
              "      <th></th>\n",
              "    </tr>\n",
              "  </thead>\n",
              "  <tbody>\n",
              "    <tr>\n",
              "      <th>0</th>\n",
              "      <td>116</td>\n",
              "      <td>384</td>\n",
              "      <td>500</td>\n",
              "    </tr>\n",
              "    <tr>\n",
              "      <th>1</th>\n",
              "      <td>300</td>\n",
              "      <td>200</td>\n",
              "      <td>500</td>\n",
              "    </tr>\n",
              "    <tr>\n",
              "      <th>Total</th>\n",
              "      <td>416</td>\n",
              "      <td>584</td>\n",
              "      <td>1000</td>\n",
              "    </tr>\n",
              "  </tbody>\n",
              "</table>\n",
              "</div>\n",
              "      <button class=\"colab-df-convert\" onclick=\"convertToInteractive('df-d2da748a-0a11-4e21-a48d-30b553cb5a72')\"\n",
              "              title=\"Convert this dataframe to an interactive table.\"\n",
              "              style=\"display:none;\">\n",
              "        \n",
              "  <svg xmlns=\"http://www.w3.org/2000/svg\" height=\"24px\"viewBox=\"0 0 24 24\"\n",
              "       width=\"24px\">\n",
              "    <path d=\"M0 0h24v24H0V0z\" fill=\"none\"/>\n",
              "    <path d=\"M18.56 5.44l.94 2.06.94-2.06 2.06-.94-2.06-.94-.94-2.06-.94 2.06-2.06.94zm-11 1L8.5 8.5l.94-2.06 2.06-.94-2.06-.94L8.5 2.5l-.94 2.06-2.06.94zm10 10l.94 2.06.94-2.06 2.06-.94-2.06-.94-.94-2.06-.94 2.06-2.06.94z\"/><path d=\"M17.41 7.96l-1.37-1.37c-.4-.4-.92-.59-1.43-.59-.52 0-1.04.2-1.43.59L10.3 9.45l-7.72 7.72c-.78.78-.78 2.05 0 2.83L4 21.41c.39.39.9.59 1.41.59.51 0 1.02-.2 1.41-.59l7.78-7.78 2.81-2.81c.8-.78.8-2.07 0-2.86zM5.41 20L4 18.59l7.72-7.72 1.47 1.35L5.41 20z\"/>\n",
              "  </svg>\n",
              "      </button>\n",
              "      \n",
              "  <style>\n",
              "    .colab-df-container {\n",
              "      display:flex;\n",
              "      flex-wrap:wrap;\n",
              "      gap: 12px;\n",
              "    }\n",
              "\n",
              "    .colab-df-convert {\n",
              "      background-color: #E8F0FE;\n",
              "      border: none;\n",
              "      border-radius: 50%;\n",
              "      cursor: pointer;\n",
              "      display: none;\n",
              "      fill: #1967D2;\n",
              "      height: 32px;\n",
              "      padding: 0 0 0 0;\n",
              "      width: 32px;\n",
              "    }\n",
              "\n",
              "    .colab-df-convert:hover {\n",
              "      background-color: #E2EBFA;\n",
              "      box-shadow: 0px 1px 2px rgba(60, 64, 67, 0.3), 0px 1px 3px 1px rgba(60, 64, 67, 0.15);\n",
              "      fill: #174EA6;\n",
              "    }\n",
              "\n",
              "    [theme=dark] .colab-df-convert {\n",
              "      background-color: #3B4455;\n",
              "      fill: #D2E3FC;\n",
              "    }\n",
              "\n",
              "    [theme=dark] .colab-df-convert:hover {\n",
              "      background-color: #434B5C;\n",
              "      box-shadow: 0px 1px 3px 1px rgba(0, 0, 0, 0.15);\n",
              "      filter: drop-shadow(0px 1px 2px rgba(0, 0, 0, 0.3));\n",
              "      fill: #FFFFFF;\n",
              "    }\n",
              "  </style>\n",
              "\n",
              "      <script>\n",
              "        const buttonEl =\n",
              "          document.querySelector('#df-d2da748a-0a11-4e21-a48d-30b553cb5a72 button.colab-df-convert');\n",
              "        buttonEl.style.display =\n",
              "          google.colab.kernel.accessAllowed ? 'block' : 'none';\n",
              "\n",
              "        async function convertToInteractive(key) {\n",
              "          const element = document.querySelector('#df-d2da748a-0a11-4e21-a48d-30b553cb5a72');\n",
              "          const dataTable =\n",
              "            await google.colab.kernel.invokeFunction('convertToInteractive',\n",
              "                                                     [key], {});\n",
              "          if (!dataTable) return;\n",
              "\n",
              "          const docLinkHtml = 'Like what you see? Visit the ' +\n",
              "            '<a target=\"_blank\" href=https://colab.research.google.com/notebooks/data_table.ipynb>data table notebook</a>'\n",
              "            + ' to learn more about interactive tables.';\n",
              "          element.innerHTML = '';\n",
              "          dataTable['output_type'] = 'display_data';\n",
              "          await google.colab.output.renderOutput(dataTable, element);\n",
              "          const docLink = document.createElement('div');\n",
              "          docLink.innerHTML = docLinkHtml;\n",
              "          element.appendChild(docLink);\n",
              "        }\n",
              "      </script>\n",
              "    </div>\n",
              "  </div>\n",
              "  "
            ]
          },
          "metadata": {},
          "execution_count": 7
        }
      ]
    },
    {
      "cell_type": "code",
      "source": [
        "import pandas as pd\n",
        "from sklearn.naive_bayes import MultinomialNB \n",
        "import statsmodels.tools.tools as stattools"
      ],
      "metadata": {
        "id": "msiwVtmiy55n"
      },
      "execution_count": 8,
      "outputs": []
    },
    {
      "cell_type": "code",
      "source": [
        "# The probability of high and low alcohol content\n",
        "#prior probabiliity of Alcohol = High or Low\n",
        "\n",
        "prior_high_alc = t1.iloc[2,0]/t1.iloc[2,2] # probability of high alcohol content\n",
        "\n",
        "prior_low_alc = t1.iloc[2,1]/t1.iloc[2,2] # probability of low alcohol content\n",
        "\n",
        "\n",
        "print(\"Probability of High Alcohol {:.2f} and Low Alcohol {:.2f}\".format(prior_high_alc, prior_low_alc))\n"
      ],
      "metadata": {
        "colab": {
          "base_uri": "https://localhost:8080/"
        },
        "id": "AXYoLxebHrG_",
        "outputId": "c5b2111e-8cf6-4a0e-9bd6-46bef981ae58"
      },
      "execution_count": 9,
      "outputs": [
        {
          "output_type": "stream",
          "name": "stdout",
          "text": [
            "Probability of High Alcohol 0.49 and Low Alcohol 0.51\n"
          ]
        }
      ]
    },
    {
      "cell_type": "code",
      "source": [
        "# The probability of high and low sugar content\n",
        "#Prior Probability of Sugar = High or Low\n",
        "prior_high_sugar = t2.iloc[2,0]/t2.iloc[2,2] # % probability of high alcohol content\n",
        "\n",
        "prior_low_sugar = t2.iloc[2,1]/t2.iloc[2,2]\n",
        "\n",
        "\n",
        "print(\"Probability of High Sugar {:.2f} and Low Sugar {:.2f}\".format(prior_high_sugar, prior_low_sugar))"
      ],
      "metadata": {
        "colab": {
          "base_uri": "https://localhost:8080/"
        },
        "id": "ecqAA8RpesAB",
        "outputId": "36502be8-6d69-4f65-9d99-7ab6f66a4653"
      },
      "execution_count": 10,
      "outputs": [
        {
          "output_type": "stream",
          "name": "stdout",
          "text": [
            "Probability of High Sugar 0.42 and Low Sugar 0.58\n"
          ]
        }
      ]
    },
    {
      "cell_type": "code",
      "source": [
        "\"\"\"The prior probability of Type = Red and Type = White.\n",
        "The conditional probabilities p(Alcohol_flag = High ∣ Type = Red) and p(Alcohol_flag = Low ∣ Type = Red).\n",
        "The conditional probabilities p(Alcohol_flag = High ∣ Type = White) and p(Alcohol_flag = Low ∣ Type = White).\n",
        "The conditional probabilities p(Sugar_flag = High ∣ Type = Red) and p(Sugar_flag = Low ∣ Type = Red).\n",
        "The conditional probabilities p(Sugar_flag = High ∣ Type = White) and p(Sugar_flag = Low ∣ Type = White).\"\"\"\n",
        "\n",
        "prob_red = t1.iloc[0,2]/t1.iloc[2,2]\n",
        "prob_white = t1.iloc[1,2]/t1.iloc[2,2]\n",
        "print(\"Prior Probability of red {:.2f} and of White {:.2f}\".format(prob_red, prob_white))\n",
        "\n",
        "Highalc_givenred = t1.iloc[0,0]/t1.iloc[0,2] \n",
        "Lowalc_givenred = t1.iloc[0,1]/t1.iloc[0,2] \n",
        "print(\"Probability of High alc red {:.2f} and Low alc red {:.2f}\".format(Highalc_givenred, Lowalc_givenred))\n",
        "\n",
        "Highalc_givenwhite = t1.iloc[1,0]/t1.iloc[1,2] \n",
        "Lowalc_givenwhite = t1.iloc[1,1]/t1.iloc[1,2] \n",
        "print(\"Probability of High alc white {:.2f} and Low alc white {:.2f}\".format(Highalc_givenwhite, Lowalc_givenwhite))\n",
        "\n",
        "Highsugar_givenred = t2.iloc[0,0]/t2.iloc[0,2] \n",
        "Lowsugar_givenred = t2.iloc[0,1]/t2.iloc[0,2]\n",
        "print(\"Probability of High sugar red {:.2f} and Low sugar red {:.2f}\".format(Highsugar_givenred, Lowsugar_givenred))\n",
        "\n",
        "Highsugar_givenwhite = t2.iloc[1,0]/t2.iloc[1,2]\n",
        "Lowsugar_givenwhite = t2.iloc[1,1]/t2.iloc[1,2]\n",
        "print(\"Probability of High sugar white {:.2f} and Low sugar white {:.2f}\".format(Highsugar_givenwhite, Lowsugar_givenwhite))"
      ],
      "metadata": {
        "colab": {
          "base_uri": "https://localhost:8080/"
        },
        "id": "UE5pRqF8cATn",
        "outputId": "cc653a63-d37d-4e02-fd79-da9ffd51bc1a"
      },
      "execution_count": 11,
      "outputs": [
        {
          "output_type": "stream",
          "name": "stdout",
          "text": [
            "Prior Probability of red 0.50 and of White 0.50\n",
            "Probability of High alc red 0.44 and Low alc red 0.56\n",
            "Probability of High alc white 0.54 and Low alc white 0.46\n",
            "Probability of High sugar red 0.23 and Low sugar red 0.77\n",
            "Probability of High sugar white 0.60 and Low sugar white 0.40\n"
          ]
        }
      ]
    },
    {
      "cell_type": "markdown",
      "source": [
        "How likely it is that a randomly selected wine is red.\n",
        "- The probability that the wine selected is red is 50% \n",
        "How likely it is that a randomly selected wine has a high alcohol content.\n",
        "- The probability that the wine selected contains high alcohol content is 49%\n",
        "How likely it is that a randomly selected wine has a low sugar content.\n",
        "- The probability that the wine selected contains low sugar content is 58% \n"
      ],
      "metadata": {
        "id": "StV9VzlJu71t"
      }
    },
    {
      "cell_type": "code",
      "source": [
        " #Use the conditional probabilities found earlier to discuss\n",
        "\n",
        "#What a typical white wine might have as its alcohol and sugar content.\n",
        "Typical_whitewine = (prob_white *Highalc_givenwhite * Lowalc_givenwhite )/ (prob_white)\n",
        "print(Typical_whitewine) # 25%\n",
        "#What a typical red wine might have as its alcohol and sugar content.\n",
        "Typical_redwine = (prob_red * Highalc_givenred * Lowsugar_givenred) / (prob_red)\n",
        "print(Typical_redwine) #33 %"
      ],
      "metadata": {
        "colab": {
          "base_uri": "https://localhost:8080/"
        },
        "id": "YJ93p6Csxfh7",
        "outputId": "57ef4218-d936-4611-d737-19add01f6535"
      },
      "execution_count": 12,
      "outputs": [
        {
          "output_type": "stream",
          "name": "stdout",
          "text": [
            "0.24870400000000004\n",
            "0.334848\n"
          ]
        }
      ]
    },
    {
      "cell_type": "markdown",
      "source": [
        "##Create side‐by‐side bar graphs for Type, one with an overlay of Alcohol_flag and the other with an overlay of Sugar_flag. Compare the graphs to the conditional probabilities you calculated."
      ],
      "metadata": {
        "id": "l2AHhi6Z3EmD"
      }
    },
    {
      "cell_type": "code",
      "source": [
        "# import the graphing library\n",
        "import matplotlib.pyplot as plt\n",
        "\n",
        "# construct the data tables\n",
        "t1_plot = pd.crosstab(wine_tr2['Type'], wine_tr2['Alcohol_flag'],margins=True, margins_name='Total', normalize='index')\n",
        "t2_plot = pd.crosstab(wine_tr2['Type'], wine_tr2['Sugar_flag'],margins=True, margins_name='Total', normalize='index')\n",
        "# create figure and axis\n",
        "fig, (axis1, axis2) = plt.subplots(nrows=1, ncols=2)\n",
        "\n",
        "# align y-axes\n",
        "axis1.set_ylim(0.0, 1.0)\n",
        "axis2.set_ylim(0.0, 1.0)\n",
        "\n",
        "# set titles\n",
        "axis1.set_title('Alcohol_flag')\n",
        "axis2.set_title('Sugar_flag')\n",
        "axis1.set_ylabel('P(Alcohol_flag|Type)')\n",
        "axis2.set_ylabel('P(Sugar_flag|Type)')\n",
        "\n",
        "# adjust padding between plots\n",
        "plt.subplots_adjust(wspace=0.5)\n",
        "\n",
        "# set figure width and height\n",
        "fig.set_figheight(5)\n",
        "fig.set_figwidth(15)\n",
        "\n",
        "# plot the graphs on each individual axes\n",
        "plot_alcohol = t1_plot.iloc[['0', '1']].plot.bar(ax=axis1)\n",
        "plot_sugar = t2_plot.iloc[['0', '1']].plot.bar(ax=axis2)"
      ],
      "metadata": {
        "colab": {
          "base_uri": "https://localhost:8080/",
          "height": 482
        },
        "id": "n-Fjj6MipEyE",
        "outputId": "349e7721-cb69-4c4f-a8dc-e42174381358"
      },
      "execution_count": 13,
      "outputs": [
        {
          "output_type": "display_data",
          "data": {
            "text/plain": [
              "<Figure size 1500x500 with 2 Axes>"
            ],
            "image/png": "[encoded data removed]"
          },
          "metadata": {}
        }
      ]
    },
    {
      "cell_type": "markdown",
      "source": [
        "- It seems our bar graph shows that our conditional probability results are similar red wine of high alcohol percentage is of lower probability to be selected compared to white wine with high alcohol percentage. The probability of selecting either wine type with lower alcohol percentage is about 50/50 matching our previous results."
      ],
      "metadata": {
        "id": "eruC1YLDRi8r"
      }
    },
    {
      "cell_type": "markdown",
      "source": [
        "- The bar graphs do seem to show a fair representation of the conditional probability outputs from above demostrating that selecting a high sugar red is in the minority 23% of the time. Also, selecting a white wine of high sugar content has a higher likelyhood as described by the conditional probability is shown in the graph. "
      ],
      "metadata": {
        "id": "f_uLinAFMtsf"
      }
    },
    {
      "cell_type": "code",
      "source": [
        "# use a contingency table to get the value of P(Type = Red| Alcohol_flag = Low AND Sugar_flag = High)\n",
        "alcsugar_type_table = pd.crosstab([wine_tr2.Alcohol_flag, wine_tr2.Sugar_flag], wine_tr2.Type, margins=True, normalize='index')\n",
        "alcsugar_type_table"
      ],
      "metadata": {
        "colab": {
          "base_uri": "https://localhost:8080/",
          "height": 238
        },
        "id": "I9dpoaEutw-S",
        "outputId": "dde6141e-5dc7-4899-aa12-5e04aadff040"
      },
      "execution_count": 14,
      "outputs": [
        {
          "output_type": "execute_result",
          "data": {
            "text/plain": [
              "Type                            0         1\n",
              "Alcohol_flag Sugar_flag                    \n",
              "0            0           0.275676  0.724324\n",
              "             1           0.554817  0.445183\n",
              "1            0           0.281385  0.718615\n",
              "             1           0.766784  0.233216\n",
              "All                      0.500000  0.500000"
            ],
            "text/html": [
              "\n",
              "  <div id=\"df-0edfe912-21cf-4c9f-b275-0d8773159af8\">\n",
              "    <div class=\"colab-df-container\">\n",
              "      <div>\n",
              "<style scoped>\n",
              "    .dataframe tbody tr th:only-of-type {\n",
              "        vertical-align: middle;\n",
              "    }\n",
              "\n",
              "    .dataframe tbody tr th {\n",
              "        vertical-align: top;\n",
              "    }\n",
              "\n",
              "    .dataframe thead th {\n",
              "        text-align: right;\n",
              "    }\n",
              "</style>\n",
              "<table border=\"1\" class=\"dataframe\">\n",
              "  <thead>\n",
              "    <tr style=\"text-align: right;\">\n",
              "      <th></th>\n",
              "      <th>Type</th>\n",
              "      <th>0</th>\n",
              "      <th>1</th>\n",
              "    </tr>\n",
              "    <tr>\n",
              "      <th>Alcohol_flag</th>\n",
              "      <th>Sugar_flag</th>\n",
              "      <th></th>\n",
              "      <th></th>\n",
              "    </tr>\n",
              "  </thead>\n",
              "  <tbody>\n",
              "    <tr>\n",
              "      <th rowspan=\"2\" valign=\"top\">0</th>\n",
              "      <th>0</th>\n",
              "      <td>0.275676</td>\n",
              "      <td>0.724324</td>\n",
              "    </tr>\n",
              "    <tr>\n",
              "      <th>1</th>\n",
              "      <td>0.554817</td>\n",
              "      <td>0.445183</td>\n",
              "    </tr>\n",
              "    <tr>\n",
              "      <th rowspan=\"2\" valign=\"top\">1</th>\n",
              "      <th>0</th>\n",
              "      <td>0.281385</td>\n",
              "      <td>0.718615</td>\n",
              "    </tr>\n",
              "    <tr>\n",
              "      <th>1</th>\n",
              "      <td>0.766784</td>\n",
              "      <td>0.233216</td>\n",
              "    </tr>\n",
              "    <tr>\n",
              "      <th>All</th>\n",
              "      <th></th>\n",
              "      <td>0.500000</td>\n",
              "      <td>0.500000</td>\n",
              "    </tr>\n",
              "  </tbody>\n",
              "</table>\n",
              "</div>\n",
              "      <button class=\"colab-df-convert\" onclick=\"convertToInteractive('df-0edfe912-21cf-4c9f-b275-0d8773159af8')\"\n",
              "              title=\"Convert this dataframe to an interactive table.\"\n",
              "              style=\"display:none;\">\n",
              "        \n",
              "  <svg xmlns=\"http://www.w3.org/2000/svg\" height=\"24px\"viewBox=\"0 0 24 24\"\n",
              "       width=\"24px\">\n",
              "    <path d=\"M0 0h24v24H0V0z\" fill=\"none\"/>\n",
              "    <path d=\"M18.56 5.44l.94 2.06.94-2.06 2.06-.94-2.06-.94-.94-2.06-.94 2.06-2.06.94zm-11 1L8.5 8.5l.94-2.06 2.06-.94-2.06-.94L8.5 2.5l-.94 2.06-2.06.94zm10 10l.94 2.06.94-2.06 2.06-.94-2.06-.94-.94-2.06-.94 2.06-2.06.94z\"/><path d=\"M17.41 7.96l-1.37-1.37c-.4-.4-.92-.59-1.43-.59-.52 0-1.04.2-1.43.59L10.3 9.45l-7.72 7.72c-.78.78-.78 2.05 0 2.83L4 21.41c.39.39.9.59 1.41.59.51 0 1.02-.2 1.41-.59l7.78-7.78 2.81-2.81c.8-.78.8-2.07 0-2.86zM5.41 20L4 18.59l7.72-7.72 1.47 1.35L5.41 20z\"/>\n",
              "  </svg>\n",
              "      </button>\n",
              "      \n",
              "  <style>\n",
              "    .colab-df-container {\n",
              "      display:flex;\n",
              "      flex-wrap:wrap;\n",
              "      gap: 12px;\n",
              "    }\n",
              "\n",
              "    .colab-df-convert {\n",
              "      background-color: #E8F0FE;\n",
              "      border: none;\n",
              "      border-radius: 50%;\n",
              "      cursor: pointer;\n",
              "      display: none;\n",
              "      fill: #1967D2;\n",
              "      height: 32px;\n",
              "      padding: 0 0 0 0;\n",
              "      width: 32px;\n",
              "    }\n",
              "\n",
              "    .colab-df-convert:hover {\n",
              "      background-color: #E2EBFA;\n",
              "      box-shadow: 0px 1px 2px rgba(60, 64, 67, 0.3), 0px 1px 3px 1px rgba(60, 64, 67, 0.15);\n",
              "      fill: #174EA6;\n",
              "    }\n",
              "\n",
              "    [theme=dark] .colab-df-convert {\n",
              "      background-color: #3B4455;\n",
              "      fill: #D2E3FC;\n",
              "    }\n",
              "\n",
              "    [theme=dark] .colab-df-convert:hover {\n",
              "      background-color: #434B5C;\n",
              "      box-shadow: 0px 1px 3px 1px rgba(0, 0, 0, 0.15);\n",
              "      filter: drop-shadow(0px 1px 2px rgba(0, 0, 0, 0.3));\n",
              "      fill: #FFFFFF;\n",
              "    }\n",
              "  </style>\n",
              "\n",
              "      <script>\n",
              "        const buttonEl =\n",
              "          document.querySelector('#df-0edfe912-21cf-4c9f-b275-0d8773159af8 button.colab-df-convert');\n",
              "        buttonEl.style.display =\n",
              "          google.colab.kernel.accessAllowed ? 'block' : 'none';\n",
              "\n",
              "        async function convertToInteractive(key) {\n",
              "          const element = document.querySelector('#df-0edfe912-21cf-4c9f-b275-0d8773159af8');\n",
              "          const dataTable =\n",
              "            await google.colab.kernel.invokeFunction('convertToInteractive',\n",
              "                                                     [key], {});\n",
              "          if (!dataTable) return;\n",
              "\n",
              "          const docLinkHtml = 'Like what you see? Visit the ' +\n",
              "            '<a target=\"_blank\" href=https://colab.research.google.com/notebooks/data_table.ipynb>data table notebook</a>'\n",
              "            + ' to learn more about interactive tables.';\n",
              "          element.innerHTML = '';\n",
              "          dataTable['output_type'] = 'display_data';\n",
              "          await google.colab.output.renderOutput(dataTable, element);\n",
              "          const docLink = document.createElement('div');\n",
              "          docLink.innerHTML = docLinkHtml;\n",
              "          element.appendChild(docLink);\n",
              "        }\n",
              "      </script>\n",
              "    </div>\n",
              "  </div>\n",
              "  "
            ]
          },
          "metadata": {},
          "execution_count": 14
        }
      ]
    },
    {
      "cell_type": "code",
      "source": [
        "##Compute the posterior probability of Type = Red for a wine that is low in alcohol content and high in sugar content. \n",
        "\n",
        "Pred_given_lowAlc_highSug = [((prob_red* Lowalc_givenred * Highsugar_givenred)) / (prior_low_alc * prior_high_sugar) ]\n",
        "print(f\"P(Type = Red| Alcohol_flag = Low AND Sugar_flag = High): {(Pred_given_lowAlc_highSug)}\")"
      ],
      "metadata": {
        "colab": {
          "base_uri": "https://localhost:8080/"
        },
        "id": "hY2IJja24Ecl",
        "outputId": "fdc1bd4f-7998-4e67-d99f-f802628bcdaf"
      },
      "execution_count": 15,
      "outputs": [
        {
          "output_type": "stream",
          "name": "stdout",
          "text": [
            "P(Type = Red| Alcohol_flag = Low AND Sugar_flag = High): [0.30597126608799763]\n"
          ]
        }
      ]
    },
    {
      "cell_type": "code",
      "source": [
        "##Compute the posterior probability of Type = White for the same wine.\n",
        "Pwhite_given_lowAlc_highSug = [((prob_white* Lowalc_givenwhite * Highsugar_givenwhite)) / (prior_low_alc * prior_high_sugar) ]\n",
        "print(f\"P(Type = White| Alcohol_flag = Low AND Sugar_flag = High): {(Pwhite_given_lowAlc_highSug)}\")\n"
      ],
      "metadata": {
        "colab": {
          "base_uri": "https://localhost:8080/"
        },
        "id": "p0QU0443Qv6s",
        "outputId": "3ab4c150-c094-481b-9660-94fc23e53a02"
      },
      "execution_count": 16,
      "outputs": [
        {
          "output_type": "stream",
          "name": "stdout",
          "text": [
            "P(Type = White| Alcohol_flag = Low AND Sugar_flag = High): [0.6510026938042502]\n"
          ]
        }
      ]
    },
    {
      "cell_type": "code",
      "source": [
        "#Use your answers to the previous exercise to determine which type, red or white, is more probable for a wine with low alcohol and high sugar content. \n",
        "#What would the Naïve Bayes classifier classify this wine as?\n",
        "\n",
        "#Evaluate the Naïve Bayes model on the wines_test data set. Display the results in a contingency table. \n",
        "#Edit the row and column names of the table to make the table more readable. Include a total row and column.\n",
        "\n",
        "# separate x and y for training\n",
        "\n",
        "import pandas as pd\n",
        "import numpy as np\n",
        "from sklearn.naive_bayes import MultinomialNB \n",
        "import statsmodels.tools.tools as stattools\n",
        "\n",
        "from re import X\n",
        "## extract all columns from alcohol \n",
        "\n",
        "x_Alcohol_ind=np.array(wine_tr2['Alcohol_flag'])\n",
        "\n",
        "#array below printed\n",
        "x_Alcohol_ind\n",
        "\n",
        "#for us to convert these into categorical values...\n",
        "\n",
        "(x_Alcohol_ind, x_Alcohol_dict) = stattools.categorical(x_Alcohol_ind, drop= True, dictnames=True)\n",
        "x_Alcohol_ind = pd.DataFrame(x_Alcohol_ind)\n",
        "x_Alcohol_ind\n",
        "\n",
        "x_Sugar_ind= np.array(wine_tr['Sugar_flag'])\n",
        "(x_Sugar_ind, x_Sugar_ind_dict)=stattools.categorical(x_Sugar_ind, drop=True, dictnames=True)\n",
        "x_Sugar_ind = pd.DataFrame(x_Sugar_ind)\n",
        "x_Sugar_ind\n",
        "\n",
        "X=pd.concat((x_Alcohol_ind, x_Sugar_ind), axis=1)\n",
        "\n",
        "X\n",
        "\n",
        "X2=pd.concat((wine_tr['Alcohol_flag'], wine_tr['Sugar_flag'], x_Alcohol_ind, x_Sugar_ind), axis=1)\n",
        "\n",
        "X2\n",
        "\n",
        "Y= wine_tr2['Type']\n",
        "\n",
        "Y\n",
        "\n",
        "nb_01 =MultinomialNB().fit(X.values,Y.values)\n",
        "\n",
        "nb_01\n"
      ],
      "metadata": {
        "colab": {
          "base_uri": "https://localhost:8080/",
          "height": 129
        },
        "id": "_IB-OLx2YwHq",
        "outputId": "5175e6c9-ddcb-47d9-e8c7-f6c000e857dc"
      },
      "execution_count": 17,
      "outputs": [
        {
          "output_type": "stream",
          "name": "stderr",
          "text": [
            "/usr/local/lib/python3.10/dist-packages/statsmodels/tools/tools.py:152: FutureWarning: categorical is deprecated. Use pandas Categorical to represent categorical data and can get_dummies to construct dummy arrays. It will be removed after release 0.13.\n",
            "  warnings.warn(\n"
          ]
        },
        {
          "output_type": "execute_result",
          "data": {
            "text/plain": [
              "MultinomialNB()"
            ],
            "text/html": [
              "<style>#sk-container-id-1 {color: black;background-color: white;}#sk-container-id-1 pre{padding: 0;}#sk-container-id-1 div.sk-toggleable {background-color: white;}#sk-container-id-1 label.sk-toggleable__label {cursor: pointer;display: block;width: 100%;margin-bottom: 0;padding: 0.3em;box-sizing: border-box;text-align: center;}#sk-container-id-1 label.sk-toggleable__label-arrow:before {content: \"▸\";float: left;margin-right: 0.25em;color: #696969;}#sk-container-id-1 label.sk-toggleable__label-arrow:hover:before {color: black;}#sk-container-id-1 div.sk-estimator:hover label.sk-toggleable__label-arrow:before {color: black;}#sk-container-id-1 div.sk-toggleable__content {max-height: 0;max-width: 0;overflow: hidden;text-align: left;background-color: #f0f8ff;}#sk-container-id-1 div.sk-toggleable__content pre {margin: 0.2em;color: black;border-radius: 0.25em;background-color: #f0f8ff;}#sk-container-id-1 input.sk-toggleable__control:checked~div.sk-toggleable__content {max-height: 200px;max-width: 100%;overflow: auto;}#sk-container-id-1 input.sk-toggleable__control:checked~label.sk-toggleable__label-arrow:before {content: \"▾\";}#sk-container-id-1 div.sk-estimator input.sk-toggleable__control:checked~label.sk-toggleable__label {background-color: #d4ebff;}#sk-container-id-1 div.sk-label input.sk-toggleable__control:checked~label.sk-toggleable__label {background-color: #d4ebff;}#sk-container-id-1 input.sk-hidden--visually {border: 0;clip: rect(1px 1px 1px 1px);clip: rect(1px, 1px, 1px, 1px);height: 1px;margin: -1px;overflow: hidden;padding: 0;position: absolute;width: 1px;}#sk-container-id-1 div.sk-estimator {font-family: monospace;background-color: #f0f8ff;border: 1px dotted black;border-radius: 0.25em;box-sizing: border-box;margin-bottom: 0.5em;}#sk-container-id-1 div.sk-estimator:hover {background-color: #d4ebff;}#sk-container-id-1 div.sk-parallel-item::after {content: \"\";width: 100%;border-bottom: 1px solid gray;flex-grow: 1;}#sk-container-id-1 div.sk-label:hover label.sk-toggleable__label {background-color: #d4ebff;}#sk-container-id-1 div.sk-serial::before {content: \"\";position: absolute;border-left: 1px solid gray;box-sizing: border-box;top: 0;bottom: 0;left: 50%;z-index: 0;}#sk-container-id-1 div.sk-serial {display: flex;flex-direction: column;align-items: center;background-color: white;padding-right: 0.2em;padding-left: 0.2em;position: relative;}#sk-container-id-1 div.sk-item {position: relative;z-index: 1;}#sk-container-id-1 div.sk-parallel {display: flex;align-items: stretch;justify-content: center;background-color: white;position: relative;}#sk-container-id-1 div.sk-item::before, #sk-container-id-1 div.sk-parallel-item::before {content: \"\";position: absolute;border-left: 1px solid gray;box-sizing: border-box;top: 0;bottom: 0;left: 50%;z-index: -1;}#sk-container-id-1 div.sk-parallel-item {display: flex;flex-direction: column;z-index: 1;position: relative;background-color: white;}#sk-container-id-1 div.sk-parallel-item:first-child::after {align-self: flex-end;width: 50%;}#sk-container-id-1 div.sk-parallel-item:last-child::after {align-self: flex-start;width: 50%;}#sk-container-id-1 div.sk-parallel-item:only-child::after {width: 0;}#sk-container-id-1 div.sk-dashed-wrapped {border: 1px dashed gray;margin: 0 0.4em 0.5em 0.4em;box-sizing: border-box;padding-bottom: 0.4em;background-color: white;}#sk-container-id-1 div.sk-label label {font-family: monospace;font-weight: bold;display: inline-block;line-height: 1.2em;}#sk-container-id-1 div.sk-label-container {text-align: center;}#sk-container-id-1 div.sk-container {/* jupyter's `normalize.less` sets `[hidden] { display: none; }` but bootstrap.min.css set `[hidden] { display: none !important; }` so we also need the `!important` here to be able to override the default hidden behavior on the sphinx rendered scikit-learn.org. See: https://github.com/scikit-learn/scikit-learn/issues/21755 */display: inline-block !important;position: relative;}#sk-container-id-1 div.sk-text-repr-fallback {display: none;}</style><div id=\"sk-container-id-1\" class=\"sk-top-container\"><div class=\"sk-text-repr-fallback\"><pre>MultinomialNB()</pre><b>In a Jupyter environment, please rerun this cell to show the HTML representation or trust the notebook. <br />On GitHub, the HTML representation is unable to render, please try loading this page with nbviewer.org.</b></div><div class=\"sk-container\" hidden><div class=\"sk-item\"><div class=\"sk-estimator sk-toggleable\"><input class=\"sk-toggleable__control sk-hidden--visually\" id=\"sk-estimator-id-1\" type=\"checkbox\" checked><label for=\"sk-estimator-id-1\" class=\"sk-toggleable__label sk-toggleable__label-arrow\">MultinomialNB</label><div class=\"sk-toggleable__content\"><pre>MultinomialNB()</pre></div></div></div></div></div>"
            ]
          },
          "metadata": {},
          "execution_count": 17
        }
      ]
    },
    {
      "cell_type": "code",
      "source": [
        "x_Alcohol_ind_test=np.array(wine_test['Alcohol_flag'])\n",
        "(x_Alcohol_ind_test, x_Alcohol_ind_dict_test)=stattools.categorical(x_Alcohol_ind_test, drop=True, dictnames=True)\n",
        "\n",
        "x_Alcohol_ind_test=pd.DataFrame(x_Alcohol_ind_test)\n",
        "\n",
        "\n",
        "\n",
        "x_Sugar_ind_test=np.array(wine_test['Sugar_flag'])\n",
        "(x_Sugar_ind_test, x_Sugar_ind_dict_test)=stattools.categorical(x_Sugar_ind_test, drop=True, dictnames=True)\n",
        "x_Sugar_ind_test=pd.DataFrame(x_Sugar_ind_test)\n",
        "\n",
        "x_Sugar_ind\n",
        "\n",
        "## The dummy variables for Alcohol flag and Sugar flag are coalesced into a single dataframe\n",
        "X_test=pd.concat((x_Alcohol_ind_test, x_Sugar_ind_test), axis=1)\n",
        "\n",
        "X_test\n",
        "\n",
        "\n",
        "X2_test=pd.concat((wine_test['Alcohol_flag'], wine_test['Sugar_flag'], x_Alcohol_ind_test, x_Sugar_ind_test), axis=1)\n",
        "X2_test\n",
        "\n",
        "## in our matrix, we have 4 columns\n",
        "## column 1 Alcohol High?\n",
        "## column 2: Alcohol Low?\n",
        "## column 3: Sugar high?\n",
        "## column 4: sugal low?\n",
        "\n",
        "## Our target variable is the wine type\n",
        "Y_test=wine_test['Type']\n",
        "\n",
        "Y_test\n",
        "\n",
        "Y_predicted= nb_01.predict(X_test)\n",
        "\n",
        "Y_predicted\n",
        "\n",
        "### compare predictions vs actuals\n",
        "\n",
        "ypred= pd.crosstab(wine_test['Type'], Y_predicted, rownames = ['Actual']\n",
        "                   , colnames= ['Predicted'])\n",
        "ypred['Total']= ypred.sum(axis=1);\n",
        "ypred.loc['Total']= ypred.sum();\n",
        "ypred\n"
      ],
      "metadata": {
        "colab": {
          "base_uri": "https://localhost:8080/",
          "height": 230
        },
        "id": "odahWSfEO4NQ",
        "outputId": "d6c975b9-aa1a-4c3d-b14f-39661066b3a5"
      },
      "execution_count": 18,
      "outputs": [
        {
          "output_type": "stream",
          "name": "stderr",
          "text": [
            "/usr/local/lib/python3.10/dist-packages/statsmodels/tools/tools.py:152: FutureWarning: categorical is deprecated. Use pandas Categorical to represent categorical data and can get_dummies to construct dummy arrays. It will be removed after release 0.13.\n",
            "  warnings.warn(\n"
          ]
        },
        {
          "output_type": "execute_result",
          "data": {
            "text/plain": [
              "Predicted     0     1  Total\n",
              "Actual                      \n",
              "0           464   121    585\n",
              "1           678  1082   1760\n",
              "Total      1142  1203   2345"
            ],
            "text/html": [
              "\n",
              "  <div id=\"df-10d8ffc6-f0bf-401d-b5a7-e9f3ffd4a51a\">\n",
              "    <div class=\"colab-df-container\">\n",
              "      <div>\n",
              "<style scoped>\n",
              "    .dataframe tbody tr th:only-of-type {\n",
              "        vertical-align: middle;\n",
              "    }\n",
              "\n",
              "    .dataframe tbody tr th {\n",
              "        vertical-align: top;\n",
              "    }\n",
              "\n",
              "    .dataframe thead th {\n",
              "        text-align: right;\n",
              "    }\n",
              "</style>\n",
              "<table border=\"1\" class=\"dataframe\">\n",
              "  <thead>\n",
              "    <tr style=\"text-align: right;\">\n",
              "      <th>Predicted</th>\n",
              "      <th>0</th>\n",
              "      <th>1</th>\n",
              "      <th>Total</th>\n",
              "    </tr>\n",
              "    <tr>\n",
              "      <th>Actual</th>\n",
              "      <th></th>\n",
              "      <th></th>\n",
              "      <th></th>\n",
              "    </tr>\n",
              "  </thead>\n",
              "  <tbody>\n",
              "    <tr>\n",
              "      <th>0</th>\n",
              "      <td>464</td>\n",
              "      <td>121</td>\n",
              "      <td>585</td>\n",
              "    </tr>\n",
              "    <tr>\n",
              "      <th>1</th>\n",
              "      <td>678</td>\n",
              "      <td>1082</td>\n",
              "      <td>1760</td>\n",
              "    </tr>\n",
              "    <tr>\n",
              "      <th>Total</th>\n",
              "      <td>1142</td>\n",
              "      <td>1203</td>\n",
              "      <td>2345</td>\n",
              "    </tr>\n",
              "  </tbody>\n",
              "</table>\n",
              "</div>\n",
              "      <button class=\"colab-df-convert\" onclick=\"convertToInteractive('df-10d8ffc6-f0bf-401d-b5a7-e9f3ffd4a51a')\"\n",
              "              title=\"Convert this dataframe to an interactive table.\"\n",
              "              style=\"display:none;\">\n",
              "        \n",
              "  <svg xmlns=\"http://www.w3.org/2000/svg\" height=\"24px\"viewBox=\"0 0 24 24\"\n",
              "       width=\"24px\">\n",
              "    <path d=\"M0 0h24v24H0V0z\" fill=\"none\"/>\n",
              "    <path d=\"M18.56 5.44l.94 2.06.94-2.06 2.06-.94-2.06-.94-.94-2.06-.94 2.06-2.06.94zm-11 1L8.5 8.5l.94-2.06 2.06-.94-2.06-.94L8.5 2.5l-.94 2.06-2.06.94zm10 10l.94 2.06.94-2.06 2.06-.94-2.06-.94-.94-2.06-.94 2.06-2.06.94z\"/><path d=\"M17.41 7.96l-1.37-1.37c-.4-.4-.92-.59-1.43-.59-.52 0-1.04.2-1.43.59L10.3 9.45l-7.72 7.72c-.78.78-.78 2.05 0 2.83L4 21.41c.39.39.9.59 1.41.59.51 0 1.02-.2 1.41-.59l7.78-7.78 2.81-2.81c.8-.78.8-2.07 0-2.86zM5.41 20L4 18.59l7.72-7.72 1.47 1.35L5.41 20z\"/>\n",
              "  </svg>\n",
              "      </button>\n",
              "      \n",
              "  <style>\n",
              "    .colab-df-container {\n",
              "      display:flex;\n",
              "      flex-wrap:wrap;\n",
              "      gap: 12px;\n",
              "    }\n",
              "\n",
              "    .colab-df-convert {\n",
              "      background-color: #E8F0FE;\n",
              "      border: none;\n",
              "      border-radius: 50%;\n",
              "      cursor: pointer;\n",
              "      display: none;\n",
              "      fill: #1967D2;\n",
              "      height: 32px;\n",
              "      padding: 0 0 0 0;\n",
              "      width: 32px;\n",
              "    }\n",
              "\n",
              "    .colab-df-convert:hover {\n",
              "      background-color: #E2EBFA;\n",
              "      box-shadow: 0px 1px 2px rgba(60, 64, 67, 0.3), 0px 1px 3px 1px rgba(60, 64, 67, 0.15);\n",
              "      fill: #174EA6;\n",
              "    }\n",
              "\n",
              "    [theme=dark] .colab-df-convert {\n",
              "      background-color: #3B4455;\n",
              "      fill: #D2E3FC;\n",
              "    }\n",
              "\n",
              "    [theme=dark] .colab-df-convert:hover {\n",
              "      background-color: #434B5C;\n",
              "      box-shadow: 0px 1px 3px 1px rgba(0, 0, 0, 0.15);\n",
              "      filter: drop-shadow(0px 1px 2px rgba(0, 0, 0, 0.3));\n",
              "      fill: #FFFFFF;\n",
              "    }\n",
              "  </style>\n",
              "\n",
              "      <script>\n",
              "        const buttonEl =\n",
              "          document.querySelector('#df-10d8ffc6-f0bf-401d-b5a7-e9f3ffd4a51a button.colab-df-convert');\n",
              "        buttonEl.style.display =\n",
              "          google.colab.kernel.accessAllowed ? 'block' : 'none';\n",
              "\n",
              "        async function convertToInteractive(key) {\n",
              "          const element = document.querySelector('#df-10d8ffc6-f0bf-401d-b5a7-e9f3ffd4a51a');\n",
              "          const dataTable =\n",
              "            await google.colab.kernel.invokeFunction('convertToInteractive',\n",
              "                                                     [key], {});\n",
              "          if (!dataTable) return;\n",
              "\n",
              "          const docLinkHtml = 'Like what you see? Visit the ' +\n",
              "            '<a target=\"_blank\" href=https://colab.research.google.com/notebooks/data_table.ipynb>data table notebook</a>'\n",
              "            + ' to learn more about interactive tables.';\n",
              "          element.innerHTML = '';\n",
              "          dataTable['output_type'] = 'display_data';\n",
              "          await google.colab.output.renderOutput(dataTable, element);\n",
              "          const docLink = document.createElement('div');\n",
              "          docLink.innerHTML = docLinkHtml;\n",
              "          element.appendChild(docLink);\n",
              "        }\n",
              "      </script>\n",
              "    </div>\n",
              "  </div>\n",
              "  "
            ]
          },
          "metadata": {},
          "execution_count": 18
        }
      ]
    },
    {
      "cell_type": "code",
      "source": [
        "NB = GaussianNB()\n",
        "nb_01 =NB.fit(X, Y)\n",
        "y_predict = nb_01.predict(X_test)\n",
        "print(\"Accuracy NB: {:.2f}\".format(NB.score(X_test, Y_test)))\n"
      ],
      "metadata": {
        "colab": {
          "base_uri": "https://localhost:8080/"
        },
        "id": "D3o8ONWxhHeF",
        "outputId": "4b26b3b6-acf5-40e9-def7-eca673f73a29"
      },
      "execution_count": 19,
      "outputs": [
        {
          "output_type": "stream",
          "name": "stdout",
          "text": [
            "Accuracy NB: 0.66\n"
          ]
        }
      ]
    },
    {
      "cell_type": "code",
      "source": [
        "#According to your table in the previous exercise, find the following values for the Naïve Bayes model:\n",
        "#Accuracy = TP + TN / Total \n",
        "Accuracy =((1082+464)/ 2345)*100\n",
        "\n",
        "print(f\"Accuracy for the Naïve Bayes model is: {round(Accuracy)}%\")\n",
        "\n",
        "#Error Rate  = FP+ FN / Total\n",
        "Error_rate = ((121+1142)/2345)*100\n",
        "print(f\"Error Rate for the Naïve Bayes model is: {round(Error_rate)}%\")"
      ],
      "metadata": {
        "colab": {
          "base_uri": "https://localhost:8080/"
        },
        "id": "zIVOUUyQetes",
        "outputId": "e730665b-d25d-4d8c-df10-d8b20ae492fa"
      },
      "execution_count": 20,
      "outputs": [
        {
          "output_type": "stream",
          "name": "stdout",
          "text": [
            "Accuracy for the Naïve Bayes model is: 66%\n",
            "Error Rate for the Naïve Bayes model is: 54%\n"
          ]
        }
      ]
    },
    {
      "cell_type": "code",
      "source": [
        "#According to your contingency table, find the following values for the Naïve Bayes model:\n",
        "\n",
        "#How often it correctly classifies red wines.\n",
        "red_acc = ypred.iloc[0,0]/ypred.iloc[2,2]\n",
        "print(red_acc)\n",
        "#How often it correctly classifies white wines.\n",
        "white_acc = ypred.iloc[1,1]/ypred.iloc[2,2]\n",
        "print(white_acc)"
      ],
      "metadata": {
        "colab": {
          "base_uri": "https://localhost:8080/"
        },
        "id": "DTwKRkHMe90B",
        "outputId": "bea18f18-7a2e-4b16-8e8f-80dee0312ec7"
      },
      "execution_count": 21,
      "outputs": [
        {
          "output_type": "stream",
          "name": "stdout",
          "text": [
            "0.1978678038379531\n",
            "0.46140724946695094\n"
          ]
        }
      ]
    },
    {
      "cell_type": "markdown",
      "metadata": {
        "id": "4wRE5d5ejtDr"
      },
      "source": [
        "Name a few classification algorithm, choose one and use it on a dataset of your choosing.\n",
        "- Logistic regression, Naives Bayes, Decision Trees, Neural Networks\n"
      ]
    },
    {
      "cell_type": "code",
      "source": [
        "#logistic Regression\n",
        "\n",
        "import numpy as np\n",
        "import statsmodels.api as sm\n",
        "from scipy import stats\n",
        "\n",
        "import matplotlib.pyplot as plt \n",
        "\n",
        "from sklearn.model_selection import train_test_split\n",
        "from sklearn.linear_model import LinearRegression\n",
        "from sklearn import metrics\n",
        "\n",
        "\n",
        "X_train = sm.add_constant(X)\n",
        "\n",
        "X_train\n",
        "\n",
        "model01=sm.OLS(Y, X_train).fit() \n",
        "##OLS stands for ordinary least squaures, which is the method used to fit this regression model. "
      ],
      "metadata": {
        "id": "JOkYwrxsMUhr"
      },
      "execution_count": 22,
      "outputs": []
    },
    {
      "cell_type": "code",
      "source": [
        "model01.summary()"
      ],
      "metadata": {
        "colab": {
          "base_uri": "https://localhost:8080/",
          "height": 550
        },
        "id": "7QS2q3mRNl1n",
        "outputId": "cf069c2d-1be2-4f4e-d0c5-628c9cb785d4"
      },
      "execution_count": 28,
      "outputs": [
        {
          "output_type": "execute_result",
          "data": {
            "text/plain": [
              "<class 'statsmodels.iolib.summary.Summary'>\n",
              "\"\"\"\n",
              "                            OLS Regression Results                            \n",
              "==============================================================================\n",
              "Dep. Variable:                   Type   R-squared:                       0.153\n",
              "Model:                            OLS   Adj. R-squared:                  0.151\n",
              "Method:                 Least Squares   F-statistic:                     90.00\n",
              "Date:                Mon, 19 Jun 2023   Prob (F-statistic):           1.17e-36\n",
              "Time:                        05:52:49   Log-Likelihood:                -642.81\n",
              "No. Observations:                1000   AIC:                             1292.\n",
              "Df Residuals:                     997   BIC:                             1306.\n",
              "Df Model:                           2                                         \n",
              "Covariance Type:            nonrobust                                         \n",
              "==============================================================================\n",
              "                 coef    std err          t      P>|t|      [0.025      0.975]\n",
              "------------------------------------------------------------------------------\n",
              "const       1.013e+13    7.1e+12      1.427      0.154    -3.8e+12    2.41e+13\n",
              "0          -4.646e+12   3.26e+12     -1.427      0.154    -1.1e+13    1.74e+12\n",
              "1          -4.646e+12   3.26e+12     -1.427      0.154    -1.1e+13    1.74e+12\n",
              "0           -5.48e+12   3.84e+12     -1.427      0.154    -1.3e+13    2.06e+12\n",
              "1           -5.48e+12   3.84e+12     -1.427      0.154    -1.3e+13    2.06e+12\n",
              "==============================================================================\n",
              "Omnibus:                     1680.976   Durbin-Watson:                   0.347\n",
              "Prob(Omnibus):                  0.000   Jarque-Bera (JB):               68.538\n",
              "Skew:                           0.003   Prob(JB):                     1.31e-15\n",
              "Kurtosis:                       1.717   Cond. No.                     2.54e+15\n",
              "==============================================================================\n",
              "\n",
              "Notes:\n",
              "[1] Standard Errors assume that the covariance matrix of the errors is correctly specified.\n",
              "[2] The smallest eigenvalue is 3.13e-28. This might indicate that there are\n",
              "strong multicollinearity problems or that the design matrix is singular.\n",
              "\"\"\""
            ],
            "text/html": [
              "<table class=\"simpletable\">\n",
              "<caption>OLS Regression Results</caption>\n",
              "<tr>\n",
              "  <th>Dep. Variable:</th>          <td>Type</td>       <th>  R-squared:         </th> <td>   0.153</td>\n",
              "</tr>\n",
              "<tr>\n",
              "  <th>Model:</th>                   <td>OLS</td>       <th>  Adj. R-squared:    </th> <td>   0.151</td>\n",
              "</tr>\n",
              "<tr>\n",
              "  <th>Method:</th>             <td>Least Squares</td>  <th>  F-statistic:       </th> <td>   90.00</td>\n",
              "</tr>\n",
              "<tr>\n",
              "  <th>Date:</th>             <td>Mon, 19 Jun 2023</td> <th>  Prob (F-statistic):</th> <td>1.17e-36</td>\n",
              "</tr>\n",
              "<tr>\n",
              "  <th>Time:</th>                 <td>05:52:49</td>     <th>  Log-Likelihood:    </th> <td> -642.81</td>\n",
              "</tr>\n",
              "<tr>\n",
              "  <th>No. Observations:</th>      <td>  1000</td>      <th>  AIC:               </th> <td>   1292.</td>\n",
              "</tr>\n",
              "<tr>\n",
              "  <th>Df Residuals:</th>          <td>   997</td>      <th>  BIC:               </th> <td>   1306.</td>\n",
              "</tr>\n",
              "<tr>\n",
              "  <th>Df Model:</th>              <td>     2</td>      <th>                     </th>     <td> </td>   \n",
              "</tr>\n",
              "<tr>\n",
              "  <th>Covariance Type:</th>      <td>nonrobust</td>    <th>                     </th>     <td> </td>   \n",
              "</tr>\n",
              "</table>\n",
              "<table class=\"simpletable\">\n",
              "<tr>\n",
              "    <td></td>       <th>coef</th>     <th>std err</th>      <th>t</th>      <th>P>|t|</th>  <th>[0.025</th>    <th>0.975]</th>  \n",
              "</tr>\n",
              "<tr>\n",
              "  <th>const</th> <td> 1.013e+13</td> <td>  7.1e+12</td> <td>    1.427</td> <td> 0.154</td> <td> -3.8e+12</td> <td> 2.41e+13</td>\n",
              "</tr>\n",
              "<tr>\n",
              "  <th>0</th>     <td>-4.646e+12</td> <td> 3.26e+12</td> <td>   -1.427</td> <td> 0.154</td> <td> -1.1e+13</td> <td> 1.74e+12</td>\n",
              "</tr>\n",
              "<tr>\n",
              "  <th>1</th>     <td>-4.646e+12</td> <td> 3.26e+12</td> <td>   -1.427</td> <td> 0.154</td> <td> -1.1e+13</td> <td> 1.74e+12</td>\n",
              "</tr>\n",
              "<tr>\n",
              "  <th>0</th>     <td> -5.48e+12</td> <td> 3.84e+12</td> <td>   -1.427</td> <td> 0.154</td> <td> -1.3e+13</td> <td> 2.06e+12</td>\n",
              "</tr>\n",
              "<tr>\n",
              "  <th>1</th>     <td> -5.48e+12</td> <td> 3.84e+12</td> <td>   -1.427</td> <td> 0.154</td> <td> -1.3e+13</td> <td> 2.06e+12</td>\n",
              "</tr>\n",
              "</table>\n",
              "<table class=\"simpletable\">\n",
              "<tr>\n",
              "  <th>Omnibus:</th>       <td>1680.976</td> <th>  Durbin-Watson:     </th> <td>   0.347</td>\n",
              "</tr>\n",
              "<tr>\n",
              "  <th>Prob(Omnibus):</th>  <td> 0.000</td>  <th>  Jarque-Bera (JB):  </th> <td>  68.538</td>\n",
              "</tr>\n",
              "<tr>\n",
              "  <th>Skew:</th>           <td> 0.003</td>  <th>  Prob(JB):          </th> <td>1.31e-15</td>\n",
              "</tr>\n",
              "<tr>\n",
              "  <th>Kurtosis:</th>       <td> 1.717</td>  <th>  Cond. No.          </th> <td>2.54e+15</td>\n",
              "</tr>\n",
              "</table><br/><br/>Notes:<br/>[1] Standard Errors assume that the covariance matrix of the errors is correctly specified.<br/>[2] The smallest eigenvalue is 3.13e-28. This might indicate that there are<br/>strong multicollinearity problems or that the design matrix is singular."
            ]
          },
          "metadata": {},
          "execution_count": 28
        }
      ]
    },
    {
      "cell_type": "markdown",
      "source": [],
      "metadata": {
        "id": "6XJBqrUGNs0L"
      }
    },
    {
      "cell_type": "markdown",
      "metadata": {
        "id": "Y0yiEpbXZZUz"
      },
      "source": [
        "Apply ANN and decision tree algorithm on the wine dataset and compare the result? which one is better and why?\n",
        "-It seems I got the same resuly of 66% accuracy for all my models which leads me to belive I may not have cleaned and prepared my data well enough to produce a stronger result. Although, this result may also indicate that this dataset does not have suffiecent data to produce a reliable result. \n",
        "- I think for this Wine data set given its size is relatively small decision trees algorithm would be the best method to use given it's a classification algorithm and can categorize the wines based on their traits. Decision trees are able to handle numerical and categorical data, and being a supervised learning method segmenting between red and white and the other characteristics. \n",
        "\n",
        "- The Artificial Neural Network (ANN) classifier is also a supervised learning method that can also be used as a classification machine learning algorithm. However, ANN is much better suited for data sets that are binary which is why I would go with decision tree algorithm even though ANN is a more powerful learning model. \n",
        "\n"
      ]
    },
    {
      "cell_type": "markdown",
      "source": [
        "# Decision tree"
      ],
      "metadata": {
        "id": "t-K2V9OMjOLJ"
      }
    },
    {
      "cell_type": "code",
      "metadata": {
        "id": "EPnmtawiTp7j"
      },
      "source": [
        "### Show your Code Here ###\n",
        "import pandas as pd\n",
        "import numpy as np\n",
        "import statsmodels.tools.tools as stattools\n",
        "from sklearn.tree import DecisionTreeClassifier, export_graphviz\n",
        "import requests"
      ],
      "execution_count": 23,
      "outputs": []
    },
    {
      "cell_type": "code",
      "source": [
        "dt = DecisionTreeClassifier(criterion= 'gini', max_leaf_nodes=4)\n",
        "dt.fit(X, Y)"
      ],
      "metadata": {
        "colab": {
          "base_uri": "https://localhost:8080/",
          "height": 75
        },
        "id": "Q-jGMW1ijlMH",
        "outputId": "be405f7c-08bd-43ca-d51e-cac515528a48"
      },
      "execution_count": 24,
      "outputs": [
        {
          "output_type": "execute_result",
          "data": {
            "text/plain": [
              "DecisionTreeClassifier(max_leaf_nodes=4)"
            ],
            "text/html": [
              "<style>#sk-container-id-2 {color: black;background-color: white;}#sk-container-id-2 pre{padding: 0;}#sk-container-id-2 div.sk-toggleable {background-color: white;}#sk-container-id-2 label.sk-toggleable__label {cursor: pointer;display: block;width: 100%;margin-bottom: 0;padding: 0.3em;box-sizing: border-box;text-align: center;}#sk-container-id-2 label.sk-toggleable__label-arrow:before {content: \"▸\";float: left;margin-right: 0.25em;color: #696969;}#sk-container-id-2 label.sk-toggleable__label-arrow:hover:before {color: black;}#sk-container-id-2 div.sk-estimator:hover label.sk-toggleable__label-arrow:before {color: black;}#sk-container-id-2 div.sk-toggleable__content {max-height: 0;max-width: 0;overflow: hidden;text-align: left;background-color: #f0f8ff;}#sk-container-id-2 div.sk-toggleable__content pre {margin: 0.2em;color: black;border-radius: 0.25em;background-color: #f0f8ff;}#sk-container-id-2 input.sk-toggleable__control:checked~div.sk-toggleable__content {max-height: 200px;max-width: 100%;overflow: auto;}#sk-container-id-2 input.sk-toggleable__control:checked~label.sk-toggleable__label-arrow:before {content: \"▾\";}#sk-container-id-2 div.sk-estimator input.sk-toggleable__control:checked~label.sk-toggleable__label {background-color: #d4ebff;}#sk-container-id-2 div.sk-label input.sk-toggleable__control:checked~label.sk-toggleable__label {background-color: #d4ebff;}#sk-container-id-2 input.sk-hidden--visually {border: 0;clip: rect(1px 1px 1px 1px);clip: rect(1px, 1px, 1px, 1px);height: 1px;margin: -1px;overflow: hidden;padding: 0;position: absolute;width: 1px;}#sk-container-id-2 div.sk-estimator {font-family: monospace;background-color: #f0f8ff;border: 1px dotted black;border-radius: 0.25em;box-sizing: border-box;margin-bottom: 0.5em;}#sk-container-id-2 div.sk-estimator:hover {background-color: #d4ebff;}#sk-container-id-2 div.sk-parallel-item::after {content: \"\";width: 100%;border-bottom: 1px solid gray;flex-grow: 1;}#sk-container-id-2 div.sk-label:hover label.sk-toggleable__label {background-color: #d4ebff;}#sk-container-id-2 div.sk-serial::before {content: \"\";position: absolute;border-left: 1px solid gray;box-sizing: border-box;top: 0;bottom: 0;left: 50%;z-index: 0;}#sk-container-id-2 div.sk-serial {display: flex;flex-direction: column;align-items: center;background-color: white;padding-right: 0.2em;padding-left: 0.2em;position: relative;}#sk-container-id-2 div.sk-item {position: relative;z-index: 1;}#sk-container-id-2 div.sk-parallel {display: flex;align-items: stretch;justify-content: center;background-color: white;position: relative;}#sk-container-id-2 div.sk-item::before, #sk-container-id-2 div.sk-parallel-item::before {content: \"\";position: absolute;border-left: 1px solid gray;box-sizing: border-box;top: 0;bottom: 0;left: 50%;z-index: -1;}#sk-container-id-2 div.sk-parallel-item {display: flex;flex-direction: column;z-index: 1;position: relative;background-color: white;}#sk-container-id-2 div.sk-parallel-item:first-child::after {align-self: flex-end;width: 50%;}#sk-container-id-2 div.sk-parallel-item:last-child::after {align-self: flex-start;width: 50%;}#sk-container-id-2 div.sk-parallel-item:only-child::after {width: 0;}#sk-container-id-2 div.sk-dashed-wrapped {border: 1px dashed gray;margin: 0 0.4em 0.5em 0.4em;box-sizing: border-box;padding-bottom: 0.4em;background-color: white;}#sk-container-id-2 div.sk-label label {font-family: monospace;font-weight: bold;display: inline-block;line-height: 1.2em;}#sk-container-id-2 div.sk-label-container {text-align: center;}#sk-container-id-2 div.sk-container {/* jupyter's `normalize.less` sets `[hidden] { display: none; }` but bootstrap.min.css set `[hidden] { display: none !important; }` so we also need the `!important` here to be able to override the default hidden behavior on the sphinx rendered scikit-learn.org. See: https://github.com/scikit-learn/scikit-learn/issues/21755 */display: inline-block !important;position: relative;}#sk-container-id-2 div.sk-text-repr-fallback {display: none;}</style><div id=\"sk-container-id-2\" class=\"sk-top-container\"><div class=\"sk-text-repr-fallback\"><pre>DecisionTreeClassifier(max_leaf_nodes=4)</pre><b>In a Jupyter environment, please rerun this cell to show the HTML representation or trust the notebook. <br />On GitHub, the HTML representation is unable to render, please try loading this page with nbviewer.org.</b></div><div class=\"sk-container\" hidden><div class=\"sk-item\"><div class=\"sk-estimator sk-toggleable\"><input class=\"sk-toggleable__control sk-hidden--visually\" id=\"sk-estimator-id-2\" type=\"checkbox\" checked><label for=\"sk-estimator-id-2\" class=\"sk-toggleable__label sk-toggleable__label-arrow\">DecisionTreeClassifier</label><div class=\"sk-toggleable__content\"><pre>DecisionTreeClassifier(max_leaf_nodes=4)</pre></div></div></div></div></div>"
            ]
          },
          "metadata": {},
          "execution_count": 24
        }
      ]
    },
    {
      "cell_type": "code",
      "source": [
        "y_pred1 = dt.predict(X_test)\n",
        "print(classification_report(Y_test, y_pred1))"
      ],
      "metadata": {
        "colab": {
          "base_uri": "https://localhost:8080/"
        },
        "id": "B376K-qFi2yZ",
        "outputId": "222f5359-6fa5-4a63-e570-5148bd6cc088"
      },
      "execution_count": 25,
      "outputs": [
        {
          "output_type": "stream",
          "name": "stdout",
          "text": [
            "              precision    recall  f1-score   support\n",
            "\n",
            "           0       0.41      0.79      0.54       585\n",
            "           1       0.90      0.61      0.73      1760\n",
            "\n",
            "    accuracy                           0.66      2345\n",
            "   macro avg       0.65      0.70      0.63      2345\n",
            "weighted avg       0.78      0.66      0.68      2345\n",
            "\n"
          ]
        }
      ]
    },
    {
      "cell_type": "markdown",
      "source": [
        "# Neural Network"
      ],
      "metadata": {
        "id": "gmT9imcskcoz"
      }
    },
    {
      "cell_type": "code",
      "source": [
        "from sklearn.neural_network import MLPClassifier\n",
        "mlp = MLPClassifier(hidden_layer_sizes =(50,), max_iter=1000)\n",
        "NNA =mlp.fit(X, Y)\n",
        "y_pred2 = NNA.predict(X_test)\n",
        "print(\"Accuracy MLP: {:.2f}\".format(mlp.score(X_test, Y_test)))"
      ],
      "metadata": {
        "colab": {
          "base_uri": "https://localhost:8080/"
        },
        "id": "HuNyFsEkkQZg",
        "outputId": "b02d71f1-467c-44a9-c174-ea24c903bd79"
      },
      "execution_count": 26,
      "outputs": [
        {
          "output_type": "stream",
          "name": "stdout",
          "text": [
            "Accuracy MLP: 0.66\n"
          ]
        }
      ]
    },
    {
      "cell_type": "code",
      "source": [
        "from sklearn.metrics import classification_report, confusion_matrix\n",
        "print(confusion_matrix(Y_test, y_pred2))\n",
        "print(classification_report(Y_test, y_pred2))"
      ],
      "metadata": {
        "colab": {
          "base_uri": "https://localhost:8080/"
        },
        "id": "V2YG9sG_krl2",
        "outputId": "c44dc2ae-0227-47f9-d12e-367d91815f4b"
      },
      "execution_count": 27,
      "outputs": [
        {
          "output_type": "stream",
          "name": "stdout",
          "text": [
            "[[ 464  121]\n",
            " [ 678 1082]]\n",
            "              precision    recall  f1-score   support\n",
            "\n",
            "           0       0.41      0.79      0.54       585\n",
            "           1       0.90      0.61      0.73      1760\n",
            "\n",
            "    accuracy                           0.66      2345\n",
            "   macro avg       0.65      0.70      0.63      2345\n",
            "weighted avg       0.78      0.66      0.68      2345\n",
            "\n"
          ]
        }
      ]
    }
  ]
}